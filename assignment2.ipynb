{
 "cells": [
  {
   "cell_type": "code",
   "execution_count": null,
   "metadata": {},
   "outputs": [],
   "source": [
    "#30 jan assingnment\n",
    "#1.\n",
    "marks=int(input(\"Enter your marks\"))\n",
    "if marks<60:\n",
    "    print(\"Grade D\")\n",
    "    \n",
    "elif marks>=60<=80:\n",
    "    print(\"Grade C\")\n",
    "    \n",
    "elif marks>80<=90:\n",
    "    print(\"Grade B\")\n",
    "    \n",
    "else:\n",
    "    print(\"Grade A\")"
   ]
  },
  {
   "cell_type": "code",
   "execution_count": null,
   "metadata": {},
   "outputs": [],
   "source": [
    "#2.\n",
    "price=int(input(\"Enter cost price:\"))\n",
    "if price<=5000:\n",
    "          print(\"road Tax:\",0.5*price)\n",
    "elif price<=10000:\n",
    "          print(\"road Tax:\",0.10*price)\n",
    "else:\n",
    "    print(\"road Tax:\",0.15*price)"
   ]
  },
  {
   "cell_type": "code",
   "execution_count": null,
   "metadata": {},
   "outputs": [],
   "source": [
    " #3.\n",
    "city=str(input(\"Enter your city\"))\n",
    "if city==\"delhi\":\n",
    "         print(\"monumenyt: Red fort\")\n",
    "elif(city==\"agra\"):\n",
    "         print(\"monumnet: Taj mahal\")\n",
    "elif(city==\"jaipur\"):\n",
    "         print(\"monument: Jai mahal\")\n",
    "else:\n",
    "    print(\"invalid city\")"
   ]
  },
  {
   "cell_type": "code",
   "execution_count": null,
   "metadata": {},
   "outputs": [],
   "source": [
    "#4\n",
    "num = int(input(\"Enter a number: \"))\n",
    "count = 0\n",
    "\n",
    "while num > 10:\n",
    "    num = num / 3\n",
    "    count += 1\n",
    "\n",
    "print(\"The given number can be divided by 3 for\", count, \"times before it is less than or equal to 10.\")\n"
   ]
  },
  {
   "cell_type": "code",
   "execution_count": null,
   "metadata": {},
   "outputs": [],
   "source": [
    "#5\n",
    "In Python, a while loop is used to repeatedly execute a block of code as long as a certain condition is met.\n",
    "The loop continues to execute until the condition becomes False.\n",
    "A while loop can be useful in many scenarios, such as:\n",
    "   1 When you want to repeat a certain task until a certain condition is met\n",
    "   2. When you want to iterate through a collection of elements and perform some operation on each element until a certain condition is met\n",
    "   3.When you want to perform some action until a user provides a specific input\n",
    " example-\n",
    "    # Example 1: Repeating a task until a condition is met\n",
    "num = 0\n",
    "while num < 10:\n",
    "    print(num)\n",
    "    num += 1\n"
   ]
  },
  {
   "cell_type": "code",
   "execution_count": null,
   "metadata": {},
   "outputs": [],
   "source": [
    "#6\n",
    "# Example 1: Right triangle of asterisks\n",
    "rows = 5\n",
    "i = 0\n",
    "while i < rows:\n",
    "    j = 0\n",
    "    while j <= i:\n",
    "        print(\"*\", end=\"\")\n",
    "        j += 1\n",
    "    print()\n",
    "    i += 1\n"
   ]
  },
  {
   "cell_type": "code",
   "execution_count": null,
   "metadata": {},
   "outputs": [],
   "source": [
    "# Example 2: Square of numbers\n",
    "n = 4\n",
    "i = 1\n",
    "while i <= n:\n",
    "    j = 1\n",
    "    while j <= n:\n",
    "        print(i * j, end=\"\\t\")\n",
    "        j += 1\n",
    "    print()\n",
    "    i += 1\n"
   ]
  },
  {
   "cell_type": "code",
   "execution_count": null,
   "metadata": {},
   "outputs": [],
   "source": [
    "# Example 3: Diamond of letters\n",
    "n = 4\n",
    "i = 0\n",
    "while i <= n:\n",
    "    j = 1\n",
    "    while j <= n - i:\n",
    "        print(\" \", end=\"\")\n",
    "        j += 1\n",
    "    j = 1\n",
    "    while j <= 2 * i - 1:\n",
    "        print(chr(65 + i - 1), end=\"\")\n",
    "        j += 1\n",
    "    print()\n",
    "    i += 1\n",
    "i = n - 1\n",
    "while i >= 0:\n",
    "    j = 1\n",
    "    while j <= n - i:\n",
    "        print(\" \", end=\"\")\n",
    "        j += 1\n",
    "    j = 1\n",
    "    while j <= 2 * i - 1:\n",
    "        print(chr(65 + i - 1), end=\"\")\n",
    "        j += 1\n",
    "    print()\n",
    "    i -= 1\n",
    "\n",
    "They will give three different patterns using nested loop"
   ]
  },
  {
   "cell_type": "code",
   "execution_count": null,
   "metadata": {},
   "outputs": [],
   "source": [
    "#7\n",
    "num = 10\n",
    "while num >= 1:\n",
    "    print(num)\n",
    "    num -= 1\n",
    "\n"
   ]
  },
  {
   "cell_type": "code",
   "execution_count": null,
   "metadata": {},
   "outputs": [],
   "source": [
    "#8\n",
    "num = 10\n",
    "while num >= 1:\n",
    "    print(num)\n",
    "    num -= 1\n",
    "\n"
   ]
  }
 ],
 "metadata": {
  "language_info": {
   "name": "python"
  },
  "orig_nbformat": 4
 },
 "nbformat": 4,
 "nbformat_minor": 2
}
